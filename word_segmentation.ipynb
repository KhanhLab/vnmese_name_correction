{
 "cells": [
  {
   "cell_type": "code",
   "execution_count": 59,
   "metadata": {},
   "outputs": [],
   "source": [
    "import numpy as np\n",
    "import itertools"
   ]
  },
  {
   "cell_type": "code",
   "execution_count": 60,
   "metadata": {},
   "outputs": [],
   "source": [
    "vows = [\"a\", \"ă\", \"â\", \"e\", \"ê\", \"i\", \"y\", \"o\", \"ô\", \"ơ\", \"u\", \"ư\"]\n",
    "cons = [\"b\", \"c\", \"d\", \"đ\", \"g\", \"h\", \"k\", \"l\", \"m\", \"n\", \"p\", \"q\", \"r\", \"s\", \"t\", \"v\", \"x\"]\n",
    "cons_comb = [\"ch\", \"gh\", \"kh\", \"ng\", \"ngh\", \"nh\", \"ph\", \"th\", \"tr\", \"gi\"]"
   ]
  },
  {
   "cell_type": "code",
   "execution_count": 61,
   "metadata": {},
   "outputs": [],
   "source": [
    "pair_list = []\n",
    "for pair in list(itertools.combinations(cons, 2)):\n",
    "    s = pair[0]+pair[1]\n",
    "    pair_list.append(s)"
   ]
  },
  {
   "cell_type": "code",
   "execution_count": 135,
   "metadata": {},
   "outputs": [],
   "source": [
    "pair_list = set(pair_list)\n",
    "pair_list.difference_update(cons_comb)\n",
    "# com_list.add(\"ngh\")"
   ]
  },
  {
   "cell_type": "code",
   "execution_count": 136,
   "metadata": {},
   "outputs": [],
   "source": [
    "def word_segment(sentence, pair):\n",
    "    tokens=[]\n",
    "    i=sentence.find(pair)\n",
    "    if i!=-1:\n",
    "        tokens.append(sentence[:i+1])\n",
    "        new_str=sentence[i+1:]\n",
    "        tokens.extend(split_path(new_str, pair))\n",
    "    else:\n",
    "        tokens.append(sentence)\n",
    "    return tokens"
   ]
  },
  {
   "cell_type": "code",
   "execution_count": 151,
   "metadata": {},
   "outputs": [],
   "source": [
    "sentence = \"truongthangtuan\""
   ]
  },
  {
   "cell_type": "code",
   "execution_count": 149,
   "metadata": {},
   "outputs": [],
   "source": [
    "result = []\n",
    "for pair in pair_list:\n",
    "    if sentence.find(pair) != -1:\n",
    "        result.extend(word_segment(sentence, pair))\n",
    "    else:\n",
    "        continue"
   ]
  },
  {
   "cell_type": "code",
   "execution_count": 152,
   "metadata": {},
   "outputs": [
    {
     "data": {
      "text/plain": [
       "['truong', 'thang', 'tuan']"
      ]
     },
     "execution_count": 152,
     "metadata": {},
     "output_type": "execute_result"
    }
   ],
   "source": [
    "word_segment(sentence, \"gt\")"
   ]
  }
 ],
 "metadata": {
  "kernelspec": {
   "display_name": "Python 3",
   "language": "python",
   "name": "python3"
  },
  "language_info": {
   "codemirror_mode": {
    "name": "ipython",
    "version": 3
   },
   "file_extension": ".py",
   "mimetype": "text/x-python",
   "name": "python",
   "nbconvert_exporter": "python",
   "pygments_lexer": "ipython3",
   "version": "3.7.6"
  }
 },
 "nbformat": 4,
 "nbformat_minor": 4
}
